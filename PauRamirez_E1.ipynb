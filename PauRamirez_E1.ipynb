{
 "cells": [
  {
   "cell_type": "markdown",
   "id": "bd78ff40",
   "metadata": {},
   "source": [
    "**Exercici 1: Enters**"
   ]
  },
  {
   "cell_type": "code",
   "execution_count": 7,
   "id": "ac7895c3",
   "metadata": {},
   "outputs": [
    {
     "name": "stdout",
     "output_type": "stream",
     "text": [
      "preu 1 entrades de cinema: 8.35€\n",
      "preu 5 entrades de cinema: 41.75€\n",
      "preu 345 entrades de cinema: 2880.75€\n"
     ]
    }
   ],
   "source": [
    "preu_entrada = 8.35\n",
    "nombre_entrades = 1\n",
    "preu_total = preu_entrada*nombre_entrades\n",
    "print(f\"preu {nombre_entrades} entrades de cinema: {preu_total}€\")\n",
    "nombre_entrades = 5\n",
    "preu_total = preu_entrada*nombre_entrades\n",
    "print(f\"preu {nombre_entrades} entrades de cinema: {preu_total}€\")\n",
    "nombre_entrades = 345\n",
    "preu_total = preu_entrada*nombre_entrades\n",
    "print(f\"preu {nombre_entrades} entrades de cinema: {preu_total}€\")\n"
   ]
  },
  {
   "cell_type": "code",
   "execution_count": 15,
   "id": "95488e85",
   "metadata": {},
   "outputs": [
    {
     "name": "stdout",
     "output_type": "stream",
     "text": [
      "Ha acabat pagant 54.11€\n"
     ]
    }
   ],
   "source": [
    "nombre_entrades_retornades = 4\n",
    "percentatge = 88\n",
    "nombre_entrades = 10\n",
    "\n",
    "print(f\"Ha acabat pagant {round(nombre_entrades*preu_entrada-(nombre_entrades_retornades*preu_entrada*percentatge/100),2)}€\")"
   ]
  },
  {
   "cell_type": "markdown",
   "id": "248bf095",
   "metadata": {},
   "source": [
    "**Exercici 2**"
   ]
  },
  {
   "cell_type": "code",
   "execution_count": 16,
   "id": "4ffffe6b",
   "metadata": {},
   "outputs": [
    {
     "name": "stdout",
     "output_type": "stream",
     "text": [
      "10\n"
     ]
    }
   ],
   "source": [
    "P = 1000\n",
    "I0 = 10\n",
    "R = 0.01\n",
    "t = 5\n",
    "It = I0 + (P - I0)*(1-(1-R)**t)\n",
    "print(I0)"
   ]
  },
  {
   "cell_type": "markdown",
   "id": "1128cf3e",
   "metadata": {},
   "source": [
    "**Exercici 3**"
   ]
  },
  {
   "cell_type": "code",
   "execution_count": 29,
   "id": "cae39163",
   "metadata": {},
   "outputs": [
    {
     "name": "stdout",
     "output_type": "stream",
     "text": [
      "pel radi 5, el perímetre és 31.42m, l'àrea és 78.54m2 i el volum és 523.6m3\n",
      "pel radi 6.283185307179586, el perímetre és 39.48m, l'àrea és 124.03m2 i el volum és 1039.03m3\n"
     ]
    }
   ],
   "source": [
    "import math\n",
    "r = 5\n",
    "P = 2*math.pi*r\n",
    "A = math.pi*(r**2)\n",
    "V = (4/3)*math.pi*(r**3)\n",
    "print (f\"pel radi {r}, el perímetre és {round(P, 2)}m, l'àrea és {round(A, 2)}m2 i el volum és {round(V, 2)}m3\")\n",
    "r = math.tau\n",
    "P = 2*math.pi*r\n",
    "A = math.pi*(r**2)\n",
    "V = (4/3)*math.pi*(r**3)\n",
    "print (f\"pel radi {r}, el perímetre és {round(P, 2)}m, l'àrea és {round(A, 2)}m2 i el volum és {round(V, 2)}m3\")"
   ]
  },
  {
   "cell_type": "markdown",
   "id": "d8415199",
   "metadata": {},
   "source": [
    "**Exercici 4**"
   ]
  },
  {
   "cell_type": "code",
   "execution_count": 36,
   "id": "dc2d1e37",
   "metadata": {},
   "outputs": [
    {
     "name": "stdout",
     "output_type": "stream",
     "text": [
      "Hola, el meu nom és Pau Ramírez Llevadot, la primera lletra del meu nom és P, l'ultima lletra del meu nom es t, els tres caràcters entre la posició 2 i la posició 5 són u R, el meu nom, amb espais, té 20 caràcters, el meu nom en majúscules es veu així: PAU RAMÍREZ LLEVADOT, el meu nom en minúscules es veu així: pau ramírez llevadot\n"
     ]
    }
   ],
   "source": [
    "nom = \"Pau Ramírez Llevadot\"\n",
    "primera_lletra = nom[0]\n",
    "ultima_lletra = nom[-1]\n",
    "tres_lletres = nom[2:5]\n",
    "nom_M = nom.upper()\n",
    "nom_m = nom.lower()\n",
    "llargada_nom = len(nom)\n",
    "print(f\"Hola, el meu nom és {nom}, la primera lletra del meu nom és {primera_lletra}, l'ultima lletra del meu nom es {ultima_lletra}, els tres caràcters entre la posició 2 i la posició 5 són {tres_lletres}, el meu nom, amb espais, té {llargada_nom} caràcters, el meu nom en majúscules es veu així: {nom_M}, el meu nom en minúscules es veu així: {nom_m}\")\n"
   ]
  }
 ],
 "metadata": {
  "kernelspec": {
   "display_name": "Python 3",
   "language": "python",
   "name": "python3"
  },
  "language_info": {
   "codemirror_mode": {
    "name": "ipython",
    "version": 3
   },
   "file_extension": ".py",
   "mimetype": "text/x-python",
   "name": "python",
   "nbconvert_exporter": "python",
   "pygments_lexer": "ipython3",
   "version": "3.13.7"
  }
 },
 "nbformat": 4,
 "nbformat_minor": 5
}
